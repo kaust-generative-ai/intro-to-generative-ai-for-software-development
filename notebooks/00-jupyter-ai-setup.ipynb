{
 "cells": [
  {
   "cell_type": "markdown",
   "id": "d29ad682-4a90-41b0-8f36-84df3a61b496",
   "metadata": {},
   "source": [
    "# Jupyter AI Setup"
   ]
  },
  {
   "cell_type": "markdown",
   "id": "78e96d13-f12d-40c9-b312-e51d3751a580",
   "metadata": {},
   "source": [
    "## Download a code-specific language model\n",
    "\n",
    "For this course we will use [Deepspeek Coder V2](https://ollama.com/library/deepseek-coder-v2). Deepspeek Coder V2 is an open-source Mixture-of-Experts code language model that achieves performance comparable to GPT4-Turbo in code-specific tasks."
   ]
  },
  {
   "cell_type": "code",
   "execution_count": null,
   "id": "6628ebee-dc88-4366-9d96-f28ee02f584e",
   "metadata": {},
   "outputs": [],
   "source": [
    "%%bash\n",
    "\n",
    "ollama pull deepspeek-coder-v2"
   ]
  },
  {
   "cell_type": "markdown",
   "id": "887db2b6-33ad-4671-9618-a473515bd4db",
   "metadata": {},
   "source": [
    "## Configure Jupyternaut\n",
    "\n",
    "Consult the [Jupyter AI user documentation](https://jupyter-ai.readthedocs.io/en/latest/users/index.html) in order to configure Jupyternaut, your AI coding assistant, to use Ollama as your completion model provider with `deepseek-coder-v2` as your local model ID."
   ]
  },
  {
   "cell_type": "code",
   "execution_count": null,
   "id": "024e5d25-3d76-4159-82ff-45698ce368c3",
   "metadata": {},
   "outputs": [],
   "source": []
  }
 ],
 "metadata": {
  "kernelspec": {
   "display_name": "Python 3 (ipykernel)",
   "language": "python",
   "name": "python3"
  },
  "language_info": {
   "codemirror_mode": {
    "name": "ipython",
    "version": 3
   },
   "file_extension": ".py",
   "mimetype": "text/x-python",
   "name": "python",
   "nbconvert_exporter": "python",
   "pygments_lexer": "ipython3",
   "version": "3.12.6"
  }
 },
 "nbformat": 4,
 "nbformat_minor": 5
}
