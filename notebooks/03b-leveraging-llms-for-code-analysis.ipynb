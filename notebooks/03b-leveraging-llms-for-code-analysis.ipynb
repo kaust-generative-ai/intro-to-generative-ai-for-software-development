{
 "cells": [
  {
   "cell_type": "markdown",
   "id": "42a354da-c657-4011-869b-d51f5dd79253",
   "metadata": {},
   "source": [
    "# Leveraging LLMs for Code Analysis"
   ]
  },
  {
   "cell_type": "code",
   "execution_count": 1,
   "id": "9b06cfe4-81e8-48ac-b6cd-f9eb959ab082",
   "metadata": {},
   "outputs": [],
   "source": [
    "%load_ext jupyter_ai"
   ]
  },
  {
   "cell_type": "code",
   "execution_count": 3,
   "id": "4d50b41c-e0ab-4708-91b4-2ec3bd08df92",
   "metadata": {},
   "outputs": [
    {
     "data": {
      "text/markdown": [
       " To create an array in Python, you can use the `array` module or simply list. Here’s how to create and print an array (or a list) in both formats:\n",
       "\n",
       "```python\n",
       "import array as arr\n",
       "\n",
       "# Creating an array of integers\n",
       "int_array = arr.array('i', [1, 2, 3, 4, 5])  # 'i' denotes integer type\n",
       "\n",
       "# Printing the array\n",
       "print(int_array)\n",
       "\n",
       "# Alternatively, using a list\n",
       "python_list = [1, 2, 3, 4, 5]\n",
       "\n",
       "# Printing the list\n",
       "print(python_list)\n",
       "```\n",
       "\n",
       "Output:\n",
       "```\n",
       "array('i', [1, 2, 3, 4, 5])\n",
       "[1, 2, 3, 4, 5]\n",
       "```"
      ],
      "text/plain": [
       "<IPython.core.display.Markdown object>"
      ]
     },
     "execution_count": 3,
     "metadata": {
      "text/markdown": {
       "jupyter_ai": {
        "model_id": "deepseek-coder-v2",
        "provider_id": "ollama"
       }
      }
     },
     "output_type": "execute_result"
    }
   ],
   "source": [
    "%%ai ollama:deepseek-coder-v2\n",
    "\n",
    "How do I create an array in using Python?"
   ]
  },
  {
   "cell_type": "code",
   "execution_count": 4,
   "id": "df3586d6-c956-4e68-889f-ace819c3ae2b",
   "metadata": {},
   "outputs": [
    {
     "name": "stdout",
     "output_type": "stream",
     "text": [
      "array('i', [1, 2, 3, 4, 5])\n",
      "[1, 2, 3, 4, 5]\n"
     ]
    }
   ],
   "source": [
    "import array as arr\n",
    "\n",
    "\n",
    "# Creating an array of integers\n",
    "int_array = arr.array('i', [1, 2, 3, 4, 5])  # 'i' denotes integer type\n",
    "\n",
    "# Printing the array\n",
    "print(int_array)\n",
    "\n",
    "# Alternatively, using a list\n",
    "python_list = [1, 2, 3, 4, 5]\n",
    "\n",
    "# Printing the list\n",
    "print(python_list)"
   ]
  },
  {
   "cell_type": "code",
   "execution_count": 6,
   "id": "20d6af8f-d3fa-4a1e-b8b5-e712a7c50bc1",
   "metadata": {},
   "outputs": [
    {
     "data": {
      "text/markdown": [
       " Sure! Let's break down this Python code for a more junior developer:\n",
       "\n",
       "### Code Explanation\n",
       "\n",
       "1. **Importing the Array Module**\n",
       "   ```python\n",
       "   import array as arr\n",
       "   ```\n",
       "   - Here, we are importing the `array` module and giving it an alias `arr`. This allows us to use functions or classes from this module more conveniently later in our code.\n",
       "\n",
       "2. **Creating an Array of Integers**\n",
       "   ```python\n",
       "   int_array = arr.array('i', [1, 2, 3, 4, 5])  # 'i' denotes integer type\n",
       "   ```\n",
       "   - We are creating an array specifically for integers (`'i'` stands for integer).\n",
       "   - The `arr.array('i', [1, 2, 3, 4, 5])` part means we are initializing an array with the name `int_array`, and it contains the elements `[1, 2, 3, 4, 5]`.\n",
       "\n",
       "3. **Printing the Array**\n",
       "   ```python\n",
       "   print(int_array)\n",
       "   ```\n",
       "   - This line prints the contents of the array to the console. The output will be: `array('i', [1, 2, 3, 4, 5])`.\n",
       "\n",
       "4. **Creating a List Using Python's Built-in Syntax**\n",
       "   ```python\n",
       "   python_list = [1, 2, 3, 4, 5]\n",
       "   ```\n",
       "   - Here, we are creating a list named `python_list` that contains the same integers as our array. The syntax for lists in Python is square brackets `[]`.\n",
       "\n",
       "5. **Printing the List**\n",
       "   ```python\n",
       "   print(python_list)\n",
       "   ```\n",
       "   - This line prints the contents of the list to the console. The output will be: `[1, 2, 3, 4, 5]`.\n",
       "\n",
       "### Summary\n",
       "- We used the `array` module to create an array of integers and a Python list. Both are collections that can hold multiple items.\n",
       "- Arrays in Python's `array` module are more specific about the type of elements they contain (e.g., only integers), while lists are more flexible and can contain any data types.\n",
       "- We printed both the array and the list to verify their contents.\n",
       "\n",
       "### Output\n",
       "When you run this code, it will produce the following output:\n",
       "```\n",
       "array('i', [1, 2, 3, 4, 5])\n",
       "[1, 2, 3, 4, 5]\n",
       "```\n",
       "\n",
       "This should give a clear understanding of how arrays and lists are created and used in Python."
      ],
      "text/plain": [
       "<IPython.core.display.Markdown object>"
      ]
     },
     "execution_count": 6,
     "metadata": {
      "text/markdown": {
       "jupyter_ai": {
        "model_id": "deepseek-coder-v2",
        "provider_id": "ollama"
       }
      }
     },
     "output_type": "execute_result"
    }
   ],
   "source": [
    "%%ai ollama:deepseek-coder-v2\n",
    "\n",
    "Your are an expert Python programmer. Explain the following Python code delimited by \n",
    "``` to a more junior developer.\n",
    "\n",
    "```\n",
    "import array as arr\n",
    "\n",
    "\n",
    "# Creating an array of integers\n",
    "int_array = arr.array('i', [1, 2, 3, 4, 5])  # 'i' denotes integer type\n",
    "\n",
    "# Printing the array\n",
    "print(int_array)\n",
    "\n",
    "# Alternatively, using a list\n",
    "python_list = [1, 2, 3, 4, 5]\n",
    "\n",
    "# Printing the list\n",
    "print(python_list)\n",
    "```"
   ]
  },
  {
   "cell_type": "code",
   "execution_count": 7,
   "id": "831e80d7-aa23-4e26-9266-f8afdf18842a",
   "metadata": {},
   "outputs": [
    {
     "data": {
      "text/markdown": [
       " ```python\n",
       "# Create an empty list\n",
       "my_array = []\n",
       "\n",
       "# Attempt to access the first element of the array\n",
       "try:\n",
       "    first_element = my_array[0]\n",
       "except IndexError as e:\n",
       "    print(f\"An error occurred: {e}\")\n",
       "```\n",
       "\n",
       "Output: \n",
       "```\n",
       "An error occurred: list index out of range\n",
       "```"
      ],
      "text/plain": [
       "<IPython.core.display.Markdown object>"
      ]
     },
     "execution_count": 7,
     "metadata": {
      "text/markdown": {
       "jupyter_ai": {
        "model_id": "deepseek-coder-v2",
        "provider_id": "ollama"
       }
      }
     },
     "output_type": "execute_result"
    }
   ],
   "source": [
    "%%ai ollama:deepseek-coder-v2\n",
    "\n",
    "What happens if I try to access data in an empty Python array?"
   ]
  },
  {
   "cell_type": "code",
   "execution_count": null,
   "id": "a33b0958-7210-4de8-a37f-716f54504f87",
   "metadata": {},
   "outputs": [],
   "source": []
  },
  {
   "cell_type": "code",
   "execution_count": null,
   "id": "43bca1e4-c602-44bc-a553-2d8a5bae7108",
   "metadata": {},
   "outputs": [],
   "source": []
  },
  {
   "cell_type": "code",
   "execution_count": null,
   "id": "86d06942-cfdb-4e93-a82d-07c9fc3f76cf",
   "metadata": {},
   "outputs": [],
   "source": []
  },
  {
   "cell_type": "code",
   "execution_count": null,
   "id": "b2cc31e6-8df8-4705-a9af-84b39585be85",
   "metadata": {},
   "outputs": [],
   "source": []
  },
  {
   "cell_type": "code",
   "execution_count": null,
   "id": "0aaf9405-9836-47d7-b65f-b16aeeaf0f4b",
   "metadata": {},
   "outputs": [],
   "source": []
  },
  {
   "cell_type": "code",
   "execution_count": null,
   "id": "780951fa-0396-4368-8b75-010d469e38c5",
   "metadata": {},
   "outputs": [],
   "source": []
  },
  {
   "cell_type": "code",
   "execution_count": null,
   "id": "fccb323d-8416-4441-ac68-28a4ce8ad15d",
   "metadata": {},
   "outputs": [],
   "source": []
  },
  {
   "cell_type": "markdown",
   "id": "4fe70a04-76d5-43bc-8320-4e454446407f",
   "metadata": {},
   "source": [
    "## Linked Lists"
   ]
  },
  {
   "cell_type": "markdown",
   "id": "3aba8216-849b-47ce-9502-1670c29f75ba",
   "metadata": {},
   "source": [
    "### Exercise\n",
    "\n",
    "Ask your LLM to...\n",
    "\n",
    "1. Write some code to implement a linked list in Python.\n",
    "2. Explain the downsides and overheads associated with linked lists compared to other data structures.\n"
   ]
  },
  {
   "cell_type": "code",
   "execution_count": 2,
   "id": "9d22478a-6bed-42f6-9064-b43694012984",
   "metadata": {},
   "outputs": [
    {
     "data": {
      "text/markdown": [
       " Here's an example of how you can implement a singly linked list in Python, along with a simple function to print the elements of the linked list:\n",
       "\n",
       "```python\n",
       "class Node:\n",
       "    def __init__(self, data):\n",
       "        self.data = data\n",
       "        self.next = None\n",
       "\n",
       "class LinkedList:\n",
       "    def __init__(self):\n",
       "        self.head = None\n",
       "\n",
       "    def append(self, data):\n",
       "        new_node = Node(data)\n",
       "        if not self.head:\n",
       "            self.head = new_node\n",
       "        else:\n",
       "            current = self.head\n",
       "            while current.next:\n",
       "                current = current.next\n",
       "            current.next = new_node\n",
       "\n",
       "    def prepend(self, data):\n",
       "        new_node = Node(data)\n",
       "        new_node.next = self.head\n",
       "        self.head = new_node\n",
       "\n",
       "    def delete(self, key):\n",
       "        current = self.head\n",
       "        previous = None\n",
       "        while current and current.data != key:\n",
       "            previous = current\n",
       "            current = current.next\n",
       "        if not current:\n",
       "            return\n",
       "        if not previous:\n",
       "            self.head = current.next\n",
       "        else:\n",
       "            previous.next = current.next\n",
       "\n",
       "    def search(self, key):\n",
       "        current = self.head\n",
       "        while current and current.data != key:\n",
       "            current = current.next\n",
       "        return bool(current)\n",
       "\n",
       "    def print_list(self):\n",
       "        elements = []\n",
       "        current = self.head\n",
       "        while current:\n",
       "            elements.append(current.data)\n",
       "            current = current.next\n",
       "        print(\" -> \".join(elements))\n",
       "\n",
       "# Example usage:\n",
       "llist = LinkedList()\n",
       "llist.append(1)\n",
       "llist.append(2)\n",
       "llist.prepend(0)\n",
       "llist.print_list()  # Output: 0 -> 1 -> 2\n",
       "llist.delete(1)\n",
       "llist.print_list()  # Output: 0 -> 2\n",
       "print(llist.search(2))  # Output: True\n",
       "print(llist.search(1))  # Output: False\n",
       "```\n",
       "\n",
       "This code defines a `Node` class for the individual elements in the linked list and a `LinkedList` class to manage them. The `append`, `prepend`, and `delete` methods allow you to add, insert at the beginning, and remove nodes from the list, respectively. The `search` method checks if an element is present in the list, and the `print_list` method prints out the elements of the list."
      ],
      "text/plain": [
       "<IPython.core.display.Markdown object>"
      ]
     },
     "execution_count": 2,
     "metadata": {
      "text/markdown": {
       "jupyter_ai": {
        "model_id": "deepseek-coder-v2",
        "provider_id": "ollama"
       }
      }
     },
     "output_type": "execute_result"
    }
   ],
   "source": [
    "%%ai ollama:deepseek-coder-v2\n",
    "\n",
    "Write some code to implement a linked list in Python.\n"
   ]
  },
  {
   "cell_type": "code",
   "execution_count": 3,
   "id": "31b3d233-1a91-4324-be38-895b97c6df58",
   "metadata": {},
   "outputs": [
    {
     "data": {
      "text/markdown": [
       " ### Downsides and Overheads of Linked Lists Compared to Other Data Structures\n",
       "\n",
       "#### 1. **Memory Allocation**\n",
       "   - **Downside**: Unlike arrays, where elements are stored contiguously in memory, linked list nodes may be scattered throughout the heap memory due to dynamic allocation during runtime. This can lead to increased cache misses and less efficient use of CPU caches.\n",
       "   - **Overhead**: The overhead comes from the fact that each node must store not only its data but also a pointer to the next (or previous) node, which adds extra space for pointers.\n",
       "\n",
       "#### 2. **Access Time**\n",
       "   - **Downside**: Accessing an element in a linked list requires traversing the list from either the head or tail, depending on whether it's a singly or doubly linked list. This traversal can be inefficient if you need to access elements that are not near these ends.\n",
       "   - **Overhead**: The time complexity for accessing any random element is O(n) in the worst case, which is less efficient than the constant-time access provided by arrays (O(1)) or more sophisticated indexing mechanisms found in some tree structures.\n",
       "\n",
       "#### 3. **Insertion and Deletion**\n",
       "   - **Downside**: Inserting a new node or deleting an existing node requires updating pointers to maintain the integrity of the list, which can be complex for certain operations like inserting/deleting nodes near the head or tail.\n",
       "   - **Overhead**: While insertion and deletion are straightforward in many other data structures (like arrays with dynamic resizing), they require more steps in linked lists due to the need to change pointers. This complexity increases both in terms of code logic and potential runtime performance impacts, especially for large lists.\n",
       "\n",
       "#### 4. **No Random Access**\n",
       "   - **Downside**: Linked lists do not support random access directly because each node is only connected sequentially. You must traverse from the head or tail to reach any specific element.\n",
       "   - **Overhead**: This limitation can be a significant drawback, especially in scenarios where frequent random accesses are required and efficiency of O(1) access is crucial.\n",
       "\n",
       "#### 5. **Implementation Complexity**\n",
       "   - **Downside**: Implementing linked lists requires careful management of pointers to ensure that the list does not become fragmented or lead to memory leaks due to unreferenced nodes.\n",
       "   - **Overhead**: More complex implementation logic and potential for errors, especially as the size and complexity of applications increase.\n",
       "\n",
       "#### 6. **Iterators and Iteration**\n",
       "   - **Downside**: Standard C-style pointers used in linked lists are not inherently iterable like iterators in other data structures (e.g., vectors or arrays). You need to implement custom iterators if you want to traverse the list in a more user-friendly way, which adds complexity and potential for errors.\n",
       "   - **Overhead**: Custom iteration logic can be error-prone and may not offer many of the conveniences provided by standard library iterators (e.g., range-based loops in C++).\n",
       "\n",
       "### Conclusion\n",
       "While linked lists provide dynamic size, ease of insertion/deletion near the head or tail, and are inherently recursive due to their self-referential nature, they also come with significant downsides including inefficient random access, higher memory overhead for pointers, and more complex implementation. These factors should be carefully weighed against the specific requirements and constraints of a given application when choosing between linked lists and other data structures."
      ],
      "text/plain": [
       "<IPython.core.display.Markdown object>"
      ]
     },
     "execution_count": 3,
     "metadata": {
      "text/markdown": {
       "jupyter_ai": {
        "model_id": "deepseek-coder-v2",
        "provider_id": "ollama"
       }
      }
     },
     "output_type": "execute_result"
    }
   ],
   "source": [
    "%%ai ollama:deepseek-coder-v2\n",
    "\n",
    "Explain the downsides and overheads associated with linked lists compared to other data structures.\n"
   ]
  },
  {
   "cell_type": "code",
   "execution_count": null,
   "id": "6e38eb40-ff40-4590-a0ba-a7326a084f1b",
   "metadata": {},
   "outputs": [],
   "source": []
  },
  {
   "cell_type": "markdown",
   "id": "858a0549-bb94-4af1-8e9d-617f13397489",
   "metadata": {},
   "source": [
    "### Exercise\n",
    "\n",
    "Choose one of the points that the LLM raised in response to your last prompt, and ask some follow up questions to dig deeper. Continue the conversation to get more information on any points that interest you or that related to concepts you may not be familiar with. \n",
    "\n",
    "The goal is to explore how an ongoing conversation can reveal deeper insights about the problem you are working on and options for solving it. One useful skill is asking an LLM to critique your understanding of an issue. This can help you improve your knowledge and skills.\n"
   ]
  },
  {
   "cell_type": "code",
   "execution_count": null,
   "id": "15d975b1-7b97-4a2f-a0c3-6a7673c9fc60",
   "metadata": {},
   "outputs": [],
   "source": [
    "Instruction 2:\n",
    "\n",
    "Choose one of the points that the LLM raised in response to your last prompt, and ask some follow up questions to dig deeper. Continue the conversation to get more information on any points that interest you or that related to concepts you may not be familiar with. \n",
    "\n",
    "The goal is to explore how an ongoing conversation can reveal deeper insights about the problem you are working on and options for solving it. One useful skill is asking an LLM to critique your understanding of an issue. This can help you improve your knowledge and skills.\n",
    "\n"
   ]
  },
  {
   "cell_type": "markdown",
   "id": "7dd0eddb-84a7-4d98-a154-5c88f7e962db",
   "metadata": {},
   "source": [
    "### Exercise\n",
    "\n",
    "Take a look at `../src/linked_list.py` (this code was generated using GPT-4o). Take some time to implement code that enables you to remove a node from the linked list. You can do this by hand, or ask an LLM to do it for you. Then go back and ask the LLM to profile the new code from the point of view of an expert in mitigating denial-of-service attacks, and to help you update the code to make sure it is safe from attack and performs well."
   ]
  },
  {
   "cell_type": "code",
   "execution_count": 4,
   "id": "c3d245f0-cb22-419c-a013-8ea9693763ce",
   "metadata": {},
   "outputs": [
    {
     "name": "stdout",
     "output_type": "stream",
     "text": [
      "import threading\n",
      "\n",
      "class Node:\n",
      "    def __init__(self, data):\n",
      "        self.data = data\n",
      "        self.next = None\n",
      "\n",
      "class LinkedList:\n",
      "    def __init__(self, max_size=None):\n",
      "        self.head = None\n",
      "        self.size = 0\n",
      "        self.max_size = max_size  # Maximum size limit for the linked list\n",
      "        self.lock = threading.Lock()  # Lock for concurrency control\n",
      "\n",
      "    def append(self, data):\n",
      "        # Validate input data\n",
      "        if len(data) > 1000:  # Example: Limit data size to prevent excessively large payloads\n",
      "            raise ValueError(\"Data size exceeds maximum limit\")\n",
      "\n",
      "        with self.lock:\n",
      "            # Rate limiting mechanism can be implemented here\n",
      "            if self.max_size is not None and self.size >= self.max_size:\n",
      "                raise ValueError(\"Linked list is full\")\n",
      "\n",
      "            new_node = Node(data)\n",
      "            if self.head is None:\n",
      "                self.head = new_node\n",
      "            else:\n",
      "                last = self.head\n",
      "                while last.next:\n",
      "                    last = last.next\n",
      "                last.next = new_node\n",
      "            self.size += 1\n",
      "\n",
      "    def print_list(self):\n",
      "        current = self.head\n",
      "        while current:\n",
      "            print(current.data, end=\" \")\n",
      "            current = current.next\n",
      "\n",
      "# Example usage\n",
      "list = LinkedList(max_size=1000)  # Set maximum size limit\n",
      "list.append(\"Data 1\")\n",
      "list.append(\"Data 2\")\n",
      "list.print_list()"
     ]
    }
   ],
   "source": [
    "%%bash\n",
    "\n",
    "cat ../src/linked_list.py"
   ]
  },
  {
   "cell_type": "code",
   "execution_count": null,
   "id": "2f9f4172-eab0-4221-b5ff-d2b7708b7d02",
   "metadata": {},
   "outputs": [],
   "source": []
  },
  {
   "cell_type": "markdown",
   "id": "2e0c5a57-578f-4c0a-aeea-c8511eab3adb",
   "metadata": {},
   "source": [
    "### Exercise\n",
    "\n",
    "Consider reasons why some would want to implement a doubly-linked list rather than a singly-linked one. Take a few moments to think of some reasons, Then prompt an LLM with the same question, and compare the model’s answers to the items that you identified. "
   ]
  },
  {
   "cell_type": "code",
   "execution_count": null,
   "id": "6d1cfeb8-4a07-45d0-9fdb-3ebcd561e622",
   "metadata": {},
   "outputs": [],
   "source": [
    "Instruction 1:\n",
    "\n",
    "Take a look at the binary search tree code included in the downloads for this video. What issues would you have to consider before deploying code that uses a BST like this into production? Make a note of any issues you come up with. \n",
    "\n",
    "Then pass the code to an LLM and ask it to assume the role of a site reliability engineer and analyze the code and suggest changes to make it perform well and securely in production.See what issues it comes up with, and compare the model’s answer to your own list. Take a close look at any code the LLM writes and ask follow-up questions to make sure you understand what it generated.\n",
    "\n"
   ]
  },
  {
   "cell_type": "code",
   "execution_count": null,
   "id": "70b7783c-5b29-4c6b-beb5-ff1b0242e31a",
   "metadata": {},
   "outputs": [],
   "source": [
    "Instruction 2:\n",
    "\n",
    "Take a look at the AVL.py code in the downloads for this video. Try running the code in the Coursera lab environment, in Google colab, or on your own machine. Try to break the code - there are some bugs in the implementation. Hint - think of a role to assign the LLM to help you identify edge cases. Then work with the LLM to fix the bugs you find and enhance the code."
   ]
  },
  {
   "cell_type": "code",
   "execution_count": null,
   "id": "0f0f1eba-74ec-4685-8320-bcc862c2216d",
   "metadata": {},
   "outputs": [],
   "source": [
    "Instruction 1:\n",
    "\n",
    "Examine the code in the graph.py file in the downloads for this video. This code implements a directed graph. Take a few moments to think try and the code out, see how it works, and identify any issues that might arise if this code was used in production. \n",
    "\n",
    "What improvements or changes would you need to implement to make the code ready for production settings? Is there any missing functionality? Or any security vulnerabilities to consider?\n",
    "\n",
    "After thinking through these issues yourself, pass the code to an LLM and ask it to critique the code and explore these issues for you. Read the model’s output, ask follow up questions if you need to, and then try out any code it generates to check that it works. When you are done, come back to see how that conversation progressed for Laurence.\n",
    "\n",
    "Instruction 2:\n",
    "\n",
    "Download the code in graph2.py from the video downloads, which Laurence generated after his back and forth with ChatGPT. \n",
    "\n",
    "Try the code out and see if you can break it, or ask an LLM to help you identify edge cases and test those out. Then with the LLM to fix any issues that you identify. "
   ]
  },
  {
   "cell_type": "code",
   "execution_count": null,
   "id": "50f73e67-4bb0-43a1-998e-3fdb88beaf25",
   "metadata": {},
   "outputs": [],
   "source": []
  },
  {
   "cell_type": "code",
   "execution_count": null,
   "id": "9fca7bc3-717e-405f-be62-b6b40eda9700",
   "metadata": {},
   "outputs": [],
   "source": []
  }
 ],
 "metadata": {
  "kernelspec": {
   "display_name": "Python 3 (ipykernel)",
   "language": "python",
   "name": "python3"
  },
  "language_info": {
   "codemirror_mode": {
    "name": "ipython",
    "version": 3
   },
   "file_extension": ".py",
   "mimetype": "text/x-python",
   "name": "python",
   "nbconvert_exporter": "python",
   "pygments_lexer": "ipython3",
   "version": "3.12.6"
  }
 },
 "nbformat": 4,
 "nbformat_minor": 5
}
