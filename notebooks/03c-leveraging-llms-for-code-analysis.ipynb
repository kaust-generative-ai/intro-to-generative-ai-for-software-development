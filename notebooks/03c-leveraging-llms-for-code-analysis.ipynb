{
 "cells": [
  {
   "cell_type": "markdown",
   "id": "42a354da-c657-4011-869b-d51f5dd79253",
   "metadata": {},
   "source": [
    "# Leveraging LLMs for Code Analysis"
   ]
  },
  {
   "cell_type": "code",
   "execution_count": 2,
   "id": "9b06cfe4-81e8-48ac-b6cd-f9eb959ab082",
   "metadata": {},
   "outputs": [],
   "source": [
    "%load_ext jupyter_ai"
   ]
  },
  {
   "cell_type": "code",
   "execution_count": 3,
   "id": "4d50b41c-e0ab-4708-91b4-2ec3bd08df92",
   "metadata": {},
   "outputs": [
    {
     "data": {
      "text/markdown": [
       " To create an array in Python, you can use the `array` module or simply list. Here’s how to create and print an array (or a list) in both formats:\n",
       "\n",
       "```python\n",
       "import array as arr\n",
       "\n",
       "# Creating an array of integers\n",
       "int_array = arr.array('i', [1, 2, 3, 4, 5])  # 'i' denotes integer type\n",
       "\n",
       "# Printing the array\n",
       "print(int_array)\n",
       "\n",
       "# Alternatively, using a list\n",
       "python_list = [1, 2, 3, 4, 5]\n",
       "\n",
       "# Printing the list\n",
       "print(python_list)\n",
       "```\n",
       "\n",
       "Output:\n",
       "```\n",
       "array('i', [1, 2, 3, 4, 5])\n",
       "[1, 2, 3, 4, 5]\n",
       "```"
      ],
      "text/plain": [
       "<IPython.core.display.Markdown object>"
      ]
     },
     "execution_count": 3,
     "metadata": {
      "text/markdown": {
       "jupyter_ai": {
        "model_id": "deepseek-coder-v2",
        "provider_id": "ollama"
       }
      }
     },
     "output_type": "execute_result"
    }
   ],
   "source": [
    "%%ai ollama:deepseek-coder-v2\n",
    "\n",
    "How do I create an array in using Python?"
   ]
  },
  {
   "cell_type": "code",
   "execution_count": 4,
   "id": "df3586d6-c956-4e68-889f-ace819c3ae2b",
   "metadata": {},
   "outputs": [
    {
     "name": "stdout",
     "output_type": "stream",
     "text": [
      "array('i', [1, 2, 3, 4, 5])\n",
      "[1, 2, 3, 4, 5]\n"
     ]
    }
   ],
   "source": [
    "import array as arr\n",
    "\n",
    "\n",
    "# Creating an array of integers\n",
    "int_array = arr.array('i', [1, 2, 3, 4, 5])  # 'i' denotes integer type\n",
    "\n",
    "# Printing the array\n",
    "print(int_array)\n",
    "\n",
    "# Alternatively, using a list\n",
    "python_list = [1, 2, 3, 4, 5]\n",
    "\n",
    "# Printing the list\n",
    "print(python_list)"
   ]
  },
  {
   "cell_type": "code",
   "execution_count": 6,
   "id": "20d6af8f-d3fa-4a1e-b8b5-e712a7c50bc1",
   "metadata": {},
   "outputs": [
    {
     "data": {
      "text/markdown": [
       " Sure! Let's break down this Python code for a more junior developer:\n",
       "\n",
       "### Code Explanation\n",
       "\n",
       "1. **Importing the Array Module**\n",
       "   ```python\n",
       "   import array as arr\n",
       "   ```\n",
       "   - Here, we are importing the `array` module and giving it an alias `arr`. This allows us to use functions or classes from this module more conveniently later in our code.\n",
       "\n",
       "2. **Creating an Array of Integers**\n",
       "   ```python\n",
       "   int_array = arr.array('i', [1, 2, 3, 4, 5])  # 'i' denotes integer type\n",
       "   ```\n",
       "   - We are creating an array specifically for integers (`'i'` stands for integer).\n",
       "   - The `arr.array('i', [1, 2, 3, 4, 5])` part means we are initializing an array with the name `int_array`, and it contains the elements `[1, 2, 3, 4, 5]`.\n",
       "\n",
       "3. **Printing the Array**\n",
       "   ```python\n",
       "   print(int_array)\n",
       "   ```\n",
       "   - This line prints the contents of the array to the console. The output will be: `array('i', [1, 2, 3, 4, 5])`.\n",
       "\n",
       "4. **Creating a List Using Python's Built-in Syntax**\n",
       "   ```python\n",
       "   python_list = [1, 2, 3, 4, 5]\n",
       "   ```\n",
       "   - Here, we are creating a list named `python_list` that contains the same integers as our array. The syntax for lists in Python is square brackets `[]`.\n",
       "\n",
       "5. **Printing the List**\n",
       "   ```python\n",
       "   print(python_list)\n",
       "   ```\n",
       "   - This line prints the contents of the list to the console. The output will be: `[1, 2, 3, 4, 5]`.\n",
       "\n",
       "### Summary\n",
       "- We used the `array` module to create an array of integers and a Python list. Both are collections that can hold multiple items.\n",
       "- Arrays in Python's `array` module are more specific about the type of elements they contain (e.g., only integers), while lists are more flexible and can contain any data types.\n",
       "- We printed both the array and the list to verify their contents.\n",
       "\n",
       "### Output\n",
       "When you run this code, it will produce the following output:\n",
       "```\n",
       "array('i', [1, 2, 3, 4, 5])\n",
       "[1, 2, 3, 4, 5]\n",
       "```\n",
       "\n",
       "This should give a clear understanding of how arrays and lists are created and used in Python."
      ],
      "text/plain": [
       "<IPython.core.display.Markdown object>"
      ]
     },
     "execution_count": 6,
     "metadata": {
      "text/markdown": {
       "jupyter_ai": {
        "model_id": "deepseek-coder-v2",
        "provider_id": "ollama"
       }
      }
     },
     "output_type": "execute_result"
    }
   ],
   "source": [
    "%%ai ollama:deepseek-coder-v2\n",
    "\n",
    "Your are an expert Python programmer. Explain the following Python code delimited by \n",
    "``` to a more junior developer.\n",
    "\n",
    "```\n",
    "import array as arr\n",
    "\n",
    "\n",
    "# Creating an array of integers\n",
    "int_array = arr.array('i', [1, 2, 3, 4, 5])  # 'i' denotes integer type\n",
    "\n",
    "# Printing the array\n",
    "print(int_array)\n",
    "\n",
    "# Alternatively, using a list\n",
    "python_list = [1, 2, 3, 4, 5]\n",
    "\n",
    "# Printing the list\n",
    "print(python_list)\n",
    "```"
   ]
  },
  {
   "cell_type": "code",
   "execution_count": 7,
   "id": "831e80d7-aa23-4e26-9266-f8afdf18842a",
   "metadata": {},
   "outputs": [
    {
     "data": {
      "text/markdown": [
       " ```python\n",
       "# Create an empty list\n",
       "my_array = []\n",
       "\n",
       "# Attempt to access the first element of the array\n",
       "try:\n",
       "    first_element = my_array[0]\n",
       "except IndexError as e:\n",
       "    print(f\"An error occurred: {e}\")\n",
       "```\n",
       "\n",
       "Output: \n",
       "```\n",
       "An error occurred: list index out of range\n",
       "```"
      ],
      "text/plain": [
       "<IPython.core.display.Markdown object>"
      ]
     },
     "execution_count": 7,
     "metadata": {
      "text/markdown": {
       "jupyter_ai": {
        "model_id": "deepseek-coder-v2",
        "provider_id": "ollama"
       }
      }
     },
     "output_type": "execute_result"
    }
   ],
   "source": [
    "%%ai ollama:deepseek-coder-v2\n",
    "\n",
    "What happens if I try to access data in an empty Python array?"
   ]
  },
  {
   "cell_type": "code",
   "execution_count": null,
   "id": "a33b0958-7210-4de8-a37f-716f54504f87",
   "metadata": {},
   "outputs": [],
   "source": []
  },
  {
   "cell_type": "code",
   "execution_count": null,
   "id": "43bca1e4-c602-44bc-a553-2d8a5bae7108",
   "metadata": {},
   "outputs": [],
   "source": []
  },
  {
   "cell_type": "code",
   "execution_count": null,
   "id": "86d06942-cfdb-4e93-a82d-07c9fc3f76cf",
   "metadata": {},
   "outputs": [],
   "source": []
  },
  {
   "cell_type": "code",
   "execution_count": null,
   "id": "b2cc31e6-8df8-4705-a9af-84b39585be85",
   "metadata": {},
   "outputs": [],
   "source": []
  },
  {
   "cell_type": "code",
   "execution_count": null,
   "id": "0aaf9405-9836-47d7-b65f-b16aeeaf0f4b",
   "metadata": {},
   "outputs": [],
   "source": []
  },
  {
   "cell_type": "code",
   "execution_count": null,
   "id": "780951fa-0396-4368-8b75-010d469e38c5",
   "metadata": {},
   "outputs": [],
   "source": []
  },
  {
   "cell_type": "code",
   "execution_count": null,
   "id": "fccb323d-8416-4441-ac68-28a4ce8ad15d",
   "metadata": {},
   "outputs": [],
   "source": []
  },
  {
   "cell_type": "code",
   "execution_count": null,
   "id": "9d22478a-6bed-42f6-9064-b43694012984",
   "metadata": {},
   "outputs": [],
   "source": [
    "Instruction 1:\n",
    "\n",
    "Write some code to implement a linked list in Python, and then ask it to explain the downsides and overheads associated with linked lists compared to other data structures.\n",
    "\n"
   ]
  },
  {
   "cell_type": "code",
   "execution_count": null,
   "id": "15d975b1-7b97-4a2f-a0c3-6a7673c9fc60",
   "metadata": {},
   "outputs": [],
   "source": [
    "Instruction 2:\n",
    "\n",
    "Choose one of the points that the LLM raised in response to your last prompt, and ask some follow up questions to dig deeper. Continue the conversation to get more information on any points that interest you or that related to concepts you may not be familiar with. \n",
    "\n",
    "The goal is to explore how an ongoing conversation can reveal deeper insights about the problem you are working on and options for solving it. One useful skill is asking an LLM to critique your understanding of an issue. This can help you improve your knowledge and skills.\n",
    "\n"
   ]
  },
  {
   "cell_type": "code",
   "execution_count": null,
   "id": "2f9f4172-eab0-4221-b5ff-d2b7708b7d02",
   "metadata": {},
   "outputs": [],
   "source": [
    "Instruction 3:\n",
    "\n",
    "Take a look at the linked-list code included in the video downloads (this code was generated using GPT-4o). Take some time to implement code that enables you to remove a node from the linked list. You can do this by hand, or ask an LLM to do it for you. Then go back and ask the LLM to profile the new code from the point of view of an expert in mitigating denial-of-service attacks, and to help you update the code to make sure it is safe from attack and performs well."
   ]
  },
  {
   "cell_type": "markdown",
   "id": "2e0c5a57-578f-4c0a-aeea-c8511eab3adb",
   "metadata": {},
   "source": [
    "### Exercise"
   ]
  },
  {
   "cell_type": "code",
   "execution_count": null,
   "id": "2845195f-ad2d-44f4-83c6-5d9b23e528c0",
   "metadata": {},
   "outputs": [],
   "source": [
    "Consider the reasons why some would want to implement a doubly-linked list rather than a singly-linked one. Take a few moments to think of some reasons, Then prompt an LLM with the same question, and compare the model’s answers to the items that you identified. "
   ]
  },
  {
   "cell_type": "code",
   "execution_count": null,
   "id": "c141c37b-271f-4982-bb05-71d8978ec344",
   "metadata": {},
   "outputs": [],
   "source": []
  },
  {
   "cell_type": "markdown",
   "id": "7794986b-01e8-499c-b3ee-5d860a391b29",
   "metadata": {},
   "source": [
    "## Trees"
   ]
  },
  {
   "cell_type": "markdown",
   "id": "77c01e48-9d5c-4657-bbfb-9ead286b775e",
   "metadata": {},
   "source": [
    "### Exercise\n",
    "\n",
    "Take a look at the binary search tree code included in `../src/binary_tree.py`. What issues would you have to consider before deploying code that uses a BST like this into production? Make a note of any issues you come up with. \n",
    "\n",
    "Then pass the code to an LLM and ask it to assume the role of a site reliability engineer and analyze the code and suggest changes to make it perform well and securely in production.See what issues it comes up with, and compare the model’s answer to your own list. Take a close look at any code the LLM writes and ask follow-up questions to make sure you understand what it generated.\n"
   ]
  },
  {
   "cell_type": "code",
   "execution_count": 1,
   "id": "9e1464ef-04a6-458d-bee3-09543439f492",
   "metadata": {},
   "outputs": [
    {
     "name": "stdout",
     "output_type": "stream",
     "text": [
      "class TreeNode:\n",
      "    def __init__(self, key):\n",
      "        self.left = None\n",
      "        self.right = None\n",
      "        self.val = key\n",
      "\n",
      "class BinaryTree:\n",
      "    def __init__(self):\n",
      "        self.root = None\n",
      "\n",
      "    def insert(self, key):\n",
      "        if self.root is None:\n",
      "            self.root = TreeNode(key)\n",
      "        else:\n",
      "            self._insert(self.root, key)\n",
      "\n",
      "    def _insert(self, node, key):\n",
      "        if key < node.val:\n",
      "            if node.left is None:\n",
      "                node.left = TreeNode(key)\n",
      "            else:\n",
      "                self._insert(node.left, key)\n",
      "        else:\n",
      "            if node.right is None:\n",
      "                node.right = TreeNode(key)\n",
      "            else:\n",
      "                self._insert(node.right, key)\n",
      "\n",
      "    def inorder(self, node):\n",
      "        if node:\n",
      "            self.inorder(node.left)\n",
      "            print(node.val, end=' ')\n",
      "            self.inorder(node.right)\n",
      "\n",
      "# Example usage\n",
      "bt = BinaryTree()\n",
      "bt.insert(8)\n",
      "bt.insert(3)\n",
      "bt.insert(10)\n",
      "bt.insert(1)\n",
      "bt.insert(6)\n",
      "bt.insert(4)\n",
      "bt.insert(7)\n",
      "\n",
      "print(\"Inorder traversal of the binary tree:\")\n",
      "bt.inorder(bt.root)\n",
      "\n"
     ]
    }
   ],
   "source": [
    "%%bash\n",
    "\n",
    "cat ../src/binary_tree.py"
   ]
  },
  {
   "cell_type": "code",
   "execution_count": null,
   "id": "6d1cfeb8-4a07-45d0-9fdb-3ebcd561e622",
   "metadata": {},
   "outputs": [],
   "source": [
    "%%ai ollama:deepseek-coder-v2\n",
    "\n",
    "Assume the role of a site reliability engineer and analyze the code and suggest changes to \n",
    "make it perform well and securely in production.\n"
   ]
  },
  {
   "cell_type": "code",
   "execution_count": null,
   "id": "bcf1f1bb-9792-482b-b6d7-76b1b416f2a4",
   "metadata": {},
   "outputs": [],
   "source": []
  },
  {
   "cell_type": "markdown",
   "id": "aaa0c5ad-9fba-459e-a5a7-bcc9220b3c44",
   "metadata": {},
   "source": [
    "### Exercise\n",
    "\n",
    "Take a look at `..src/avl_tree.py`. Try running the code in the Coursera lab environment, in Google colab, or on your own machine. Try to break the code - there are some bugs in the implementation. Hint - think of a role to assign the LLM to help you identify edge cases. Then work with the LLM to fix the bugs you find and enhance the code."
   ]
  },
  {
   "cell_type": "code",
   "execution_count": 2,
   "id": "0643eb56-4a78-4c62-99e7-d2b4b4ebfcde",
   "metadata": {},
   "outputs": [
    {
     "name": "stdout",
     "output_type": "stream",
     "text": [
      "import threading\n",
      "\n",
      "class AVLNode:\n",
      "    # Constructor to initialize an AVL tree node.\n",
      "    def __init__(self, key):\n",
      "        self.left = None    # Pointer to the left child, initially None.\n",
      "        self.right = None   # Pointer to the right child, initially None.\n",
      "        self.val = key      # The value/key of the node.\n",
      "        self.height = 1     # The height of the node, initially 1 since it's a leaf when created.\n",
      "\n",
      "class AVLTree:\n",
      "    # Constructor to initialize an AVL tree.\n",
      "    def __init__(self):\n",
      "        self.root = None        # The root node of the tree, initially None.\n",
      "        self.tree_lock = threading.Lock()  # A lock to ensure thread-safe modifications.\n",
      "\n",
      "    # Public method to insert a key into the AVL tree.\n",
      "    def insert(self, key):\n",
      "        with self.tree_lock:  # Acquire the lock to ensure exclusive access for the operation.\n",
      "            self.root = self._insert(self.root, key)  # Start insertion from the root.\n",
      "\n",
      "    # Internal recursive method to handle the insertion logic.\n",
      "    def _insert(self, node, key):\n",
      "        if not node:\n",
      "            return AVLNode(key)  # Base case: return a new node if we reach a leaf position.\n",
      "\n",
      "        # Recursive case: navigate to the correct position in the tree.\n",
      "        if key < node.val:\n",
      "            node.left = self._insert(node.left, key)\n",
      "        else:\n",
      "            node.right = self._insert(node.right, key)\n",
      "\n",
      "        # After insertion, update the height of the current node.\n",
      "        node.height = 1 + max(self._get_height(node.left), self._get_height(node.right))\n",
      "\n",
      "        # Check and fix the balance of the tree if needed.\n",
      "        return self._rebalance(node, key)\n",
      "\n",
      "    # Method to delete a node with the specified key.\n",
      "    def delete(self, key):\n",
      "        with self.tree_lock:  # Acquire the lock to ensure exclusive access for the operation.\n",
      "            self.root = self._delete(self.root, key)  # Start deletion from the root.\n",
      "\n",
      "    # Internal recursive method to handle the deletion logic.\n",
      "    def _delete(self, node, key):\n",
      "        if not node:\n",
      "            return node  # Base case: if key isn't found, do nothing.\n",
      "\n",
      "        # Recursive deletion according to the key comparison.\n",
      "        if key < node.val:\n",
      "            node.left = self._delete(node.left, key)\n",
      "        elif key > node.val:\n",
      "            node.right = self._delete(node.right, key)\n",
      "        else:\n",
      "            # Handling the node with two children or one/no children.\n",
      "            if node.left is None:\n",
      "                return node.right\n",
      "            elif node.right is None:\n",
      "                return node.left\n",
      "\n",
      "            # Finding the smallest node in the right subtree to replace the current node.\n",
      "            temp = self._get_min_value_node(node.right)\n",
      "            node.val = temp.val\n",
      "            node.right = self._delete(node.right, temp.val)\n",
      "\n",
      "        # Update the height of the node and rebalance it.\n",
      "        return self._rebalance(node, None)\n",
      "\n",
      "    # Helper function to get the node with the minimum value (used in deletion).\n",
      "    def _get_min_value_node(self, node):\n",
      "        current = node\n",
      "        while current and current.left is not None:\n",
      "            current = current.left\n",
      "        return current\n",
      "\n",
      "    # Public method to search for a key in the tree.\n",
      "    def search(self, key):\n",
      "        with self.tree_lock:\n",
      "            return self._search(self.root, key)  # Start searching from the root.\n",
      "\n",
      "    # Internal recursive method to handle the search logic.\n",
      "    def _search(self, node, key):\n",
      "        # Base case: return the node if found, or None if not found.\n",
      "        if not node or node.val == key:\n",
      "            return node\n",
      "\n",
      "        # Navigate to the left or right subtree based on the key comparison.\n",
      "        if key < node.val:\n",
      "            return self._search(node.left, key)\n",
      "        else:\n",
      "            return self._search(node.right, key)\n",
      "\n",
      "    # Method to print all nodes in the tree in in-order sequence.\n",
      "    def print_in_order(self):\n",
      "        output = []\n",
      "        self._print_in_order(self.root, output)\n",
      "        return output\n",
      "\n",
      "    # Internal recursive method to collect values in in-order sequence.\n",
      "    def _print_in_order(self, node, output):\n",
      "        if node:\n",
      "            self._print_in_order(node.left, output)\n",
      "            output.append(node.val)\n",
      "            self._print_in_order(node.right, output)\n",
      "\n",
      "    # Utility method to get the height of a node.\n",
      "    def _get_height(self, node):\n",
      "        if not node:\n",
      "            return 0\n",
      "        return node.height\n",
      "\n",
      "    # Utility method to calculate the balance factor of a node.\n",
      "    def _get_balance(self, node):\n",
      "        if not node:\n",
      "            return \n"
     ]
    }
   ],
   "source": [
    "%%bash\n",
    "\n",
    "cat ../src/avl_tree.py"
   ]
  },
  {
   "cell_type": "code",
   "execution_count": 3,
   "id": "514be606-9e05-4fc9-bb87-acfcfacd714f",
   "metadata": {},
   "outputs": [],
   "source": [
    "%run ../src/avl_tree.py"
   ]
  },
  {
   "cell_type": "code",
   "execution_count": null,
   "id": "70b7783c-5b29-4c6b-beb5-ff1b0242e31a",
   "metadata": {},
   "outputs": [],
   "source": [
    "%%ai ollama:deepseek-coder-v2\n",
    "\n",
    "Try to break the code - there are some bugs in the implementation. Hint - think of a role to assign the LLM to help you identify edge cases. \n",
    "\n"
   ]
  },
  {
   "cell_type": "code",
   "execution_count": null,
   "id": "f7ea995e-887f-4c7e-ad82-6d00bb708272",
   "metadata": {},
   "outputs": [],
   "source": [
    "%%ai ollama:deepseek-coder-v2\n",
    "\n",
    "Then work with the LLM to fix the bugs you find and enhance the code.\n"
   ]
  },
  {
   "cell_type": "code",
   "execution_count": null,
   "id": "14b51b84-77fd-468f-9fdd-7ad244f66bd3",
   "metadata": {},
   "outputs": [],
   "source": []
  },
  {
   "cell_type": "code",
   "execution_count": null,
   "id": "56c071c0-74a2-4804-8ec6-a5599a7220fd",
   "metadata": {},
   "outputs": [],
   "source": []
  },
  {
   "cell_type": "code",
   "execution_count": null,
   "id": "f60ab0bf-a8e7-4334-abba-99a4b8bb883e",
   "metadata": {},
   "outputs": [],
   "source": []
  },
  {
   "cell_type": "code",
   "execution_count": null,
   "id": "2f0ac88a-9e9e-4dd7-abcd-4b96dbfc4872",
   "metadata": {},
   "outputs": [],
   "source": []
  },
  {
   "cell_type": "code",
   "execution_count": null,
   "id": "9fca7bc3-717e-405f-be62-b6b40eda9700",
   "metadata": {},
   "outputs": [],
   "source": []
  }
 ],
 "metadata": {
  "kernelspec": {
   "display_name": "Python 3 (ipykernel)",
   "language": "python",
   "name": "python3"
  },
  "language_info": {
   "codemirror_mode": {
    "name": "ipython",
    "version": 3
   },
   "file_extension": ".py",
   "mimetype": "text/x-python",
   "name": "python",
   "nbconvert_exporter": "python",
   "pygments_lexer": "ipython3",
   "version": "3.12.6"
  }
 },
 "nbformat": 4,
 "nbformat_minor": 5
}
