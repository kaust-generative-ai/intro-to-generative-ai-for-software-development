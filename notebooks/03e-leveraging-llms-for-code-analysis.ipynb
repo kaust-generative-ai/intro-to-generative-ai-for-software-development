{
 "cells": [
  {
   "cell_type": "markdown",
   "id": "42a354da-c657-4011-869b-d51f5dd79253",
   "metadata": {},
   "source": [
    "# Leveraging LLMs for Code Analysis"
   ]
  },
  {
   "cell_type": "code",
   "execution_count": 1,
   "id": "9b06cfe4-81e8-48ac-b6cd-f9eb959ab082",
   "metadata": {},
   "outputs": [],
   "source": [
    "%load_ext jupyter_ai"
   ]
  },
  {
   "cell_type": "code",
   "execution_count": 3,
   "id": "4d50b41c-e0ab-4708-91b4-2ec3bd08df92",
   "metadata": {},
   "outputs": [
    {
     "data": {
      "text/markdown": [
       " To create an array in Python, you can use the `array` module or simply list. Here’s how to create and print an array (or a list) in both formats:\n",
       "\n",
       "```python\n",
       "import array as arr\n",
       "\n",
       "# Creating an array of integers\n",
       "int_array = arr.array('i', [1, 2, 3, 4, 5])  # 'i' denotes integer type\n",
       "\n",
       "# Printing the array\n",
       "print(int_array)\n",
       "\n",
       "# Alternatively, using a list\n",
       "python_list = [1, 2, 3, 4, 5]\n",
       "\n",
       "# Printing the list\n",
       "print(python_list)\n",
       "```\n",
       "\n",
       "Output:\n",
       "```\n",
       "array('i', [1, 2, 3, 4, 5])\n",
       "[1, 2, 3, 4, 5]\n",
       "```"
      ],
      "text/plain": [
       "<IPython.core.display.Markdown object>"
      ]
     },
     "execution_count": 3,
     "metadata": {
      "text/markdown": {
       "jupyter_ai": {
        "model_id": "deepseek-coder-v2",
        "provider_id": "ollama"
       }
      }
     },
     "output_type": "execute_result"
    }
   ],
   "source": [
    "%%ai ollama:deepseek-coder-v2\n",
    "\n",
    "How do I create an array in using Python?"
   ]
  },
  {
   "cell_type": "code",
   "execution_count": 4,
   "id": "df3586d6-c956-4e68-889f-ace819c3ae2b",
   "metadata": {},
   "outputs": [
    {
     "name": "stdout",
     "output_type": "stream",
     "text": [
      "array('i', [1, 2, 3, 4, 5])\n",
      "[1, 2, 3, 4, 5]\n"
     ]
    }
   ],
   "source": [
    "import array as arr\n",
    "\n",
    "\n",
    "# Creating an array of integers\n",
    "int_array = arr.array('i', [1, 2, 3, 4, 5])  # 'i' denotes integer type\n",
    "\n",
    "# Printing the array\n",
    "print(int_array)\n",
    "\n",
    "# Alternatively, using a list\n",
    "python_list = [1, 2, 3, 4, 5]\n",
    "\n",
    "# Printing the list\n",
    "print(python_list)"
   ]
  },
  {
   "cell_type": "code",
   "execution_count": 6,
   "id": "20d6af8f-d3fa-4a1e-b8b5-e712a7c50bc1",
   "metadata": {},
   "outputs": [
    {
     "data": {
      "text/markdown": [
       " Sure! Let's break down this Python code for a more junior developer:\n",
       "\n",
       "### Code Explanation\n",
       "\n",
       "1. **Importing the Array Module**\n",
       "   ```python\n",
       "   import array as arr\n",
       "   ```\n",
       "   - Here, we are importing the `array` module and giving it an alias `arr`. This allows us to use functions or classes from this module more conveniently later in our code.\n",
       "\n",
       "2. **Creating an Array of Integers**\n",
       "   ```python\n",
       "   int_array = arr.array('i', [1, 2, 3, 4, 5])  # 'i' denotes integer type\n",
       "   ```\n",
       "   - We are creating an array specifically for integers (`'i'` stands for integer).\n",
       "   - The `arr.array('i', [1, 2, 3, 4, 5])` part means we are initializing an array with the name `int_array`, and it contains the elements `[1, 2, 3, 4, 5]`.\n",
       "\n",
       "3. **Printing the Array**\n",
       "   ```python\n",
       "   print(int_array)\n",
       "   ```\n",
       "   - This line prints the contents of the array to the console. The output will be: `array('i', [1, 2, 3, 4, 5])`.\n",
       "\n",
       "4. **Creating a List Using Python's Built-in Syntax**\n",
       "   ```python\n",
       "   python_list = [1, 2, 3, 4, 5]\n",
       "   ```\n",
       "   - Here, we are creating a list named `python_list` that contains the same integers as our array. The syntax for lists in Python is square brackets `[]`.\n",
       "\n",
       "5. **Printing the List**\n",
       "   ```python\n",
       "   print(python_list)\n",
       "   ```\n",
       "   - This line prints the contents of the list to the console. The output will be: `[1, 2, 3, 4, 5]`.\n",
       "\n",
       "### Summary\n",
       "- We used the `array` module to create an array of integers and a Python list. Both are collections that can hold multiple items.\n",
       "- Arrays in Python's `array` module are more specific about the type of elements they contain (e.g., only integers), while lists are more flexible and can contain any data types.\n",
       "- We printed both the array and the list to verify their contents.\n",
       "\n",
       "### Output\n",
       "When you run this code, it will produce the following output:\n",
       "```\n",
       "array('i', [1, 2, 3, 4, 5])\n",
       "[1, 2, 3, 4, 5]\n",
       "```\n",
       "\n",
       "This should give a clear understanding of how arrays and lists are created and used in Python."
      ],
      "text/plain": [
       "<IPython.core.display.Markdown object>"
      ]
     },
     "execution_count": 6,
     "metadata": {
      "text/markdown": {
       "jupyter_ai": {
        "model_id": "deepseek-coder-v2",
        "provider_id": "ollama"
       }
      }
     },
     "output_type": "execute_result"
    }
   ],
   "source": [
    "%%ai ollama:deepseek-coder-v2\n",
    "\n",
    "Your are an expert Python programmer. Explain the following Python code delimited by \n",
    "``` to a more junior developer.\n",
    "\n",
    "```\n",
    "import array as arr\n",
    "\n",
    "\n",
    "# Creating an array of integers\n",
    "int_array = arr.array('i', [1, 2, 3, 4, 5])  # 'i' denotes integer type\n",
    "\n",
    "# Printing the array\n",
    "print(int_array)\n",
    "\n",
    "# Alternatively, using a list\n",
    "python_list = [1, 2, 3, 4, 5]\n",
    "\n",
    "# Printing the list\n",
    "print(python_list)\n",
    "```"
   ]
  },
  {
   "cell_type": "code",
   "execution_count": 7,
   "id": "831e80d7-aa23-4e26-9266-f8afdf18842a",
   "metadata": {},
   "outputs": [
    {
     "data": {
      "text/markdown": [
       " ```python\n",
       "# Create an empty list\n",
       "my_array = []\n",
       "\n",
       "# Attempt to access the first element of the array\n",
       "try:\n",
       "    first_element = my_array[0]\n",
       "except IndexError as e:\n",
       "    print(f\"An error occurred: {e}\")\n",
       "```\n",
       "\n",
       "Output: \n",
       "```\n",
       "An error occurred: list index out of range\n",
       "```"
      ],
      "text/plain": [
       "<IPython.core.display.Markdown object>"
      ]
     },
     "execution_count": 7,
     "metadata": {
      "text/markdown": {
       "jupyter_ai": {
        "model_id": "deepseek-coder-v2",
        "provider_id": "ollama"
       }
      }
     },
     "output_type": "execute_result"
    }
   ],
   "source": [
    "%%ai ollama:deepseek-coder-v2\n",
    "\n",
    "What happens if I try to access data in an empty Python array?"
   ]
  },
  {
   "cell_type": "code",
   "execution_count": null,
   "id": "a33b0958-7210-4de8-a37f-716f54504f87",
   "metadata": {},
   "outputs": [],
   "source": []
  },
  {
   "cell_type": "code",
   "execution_count": null,
   "id": "43bca1e4-c602-44bc-a553-2d8a5bae7108",
   "metadata": {},
   "outputs": [],
   "source": []
  },
  {
   "cell_type": "code",
   "execution_count": null,
   "id": "86d06942-cfdb-4e93-a82d-07c9fc3f76cf",
   "metadata": {},
   "outputs": [],
   "source": []
  },
  {
   "cell_type": "code",
   "execution_count": null,
   "id": "b2cc31e6-8df8-4705-a9af-84b39585be85",
   "metadata": {},
   "outputs": [],
   "source": []
  },
  {
   "cell_type": "code",
   "execution_count": null,
   "id": "0aaf9405-9836-47d7-b65f-b16aeeaf0f4b",
   "metadata": {},
   "outputs": [],
   "source": []
  },
  {
   "cell_type": "code",
   "execution_count": null,
   "id": "780951fa-0396-4368-8b75-010d469e38c5",
   "metadata": {},
   "outputs": [],
   "source": []
  },
  {
   "cell_type": "code",
   "execution_count": null,
   "id": "fccb323d-8416-4441-ac68-28a4ce8ad15d",
   "metadata": {},
   "outputs": [],
   "source": []
  },
  {
   "cell_type": "code",
   "execution_count": null,
   "id": "9d22478a-6bed-42f6-9064-b43694012984",
   "metadata": {},
   "outputs": [],
   "source": [
    "Instruction 1:\n",
    "\n",
    "Write some code to implement a linked list in Python, and then ask it to explain the downsides and overheads associated with linked lists compared to other data structures.\n",
    "\n"
   ]
  },
  {
   "cell_type": "code",
   "execution_count": null,
   "id": "15d975b1-7b97-4a2f-a0c3-6a7673c9fc60",
   "metadata": {},
   "outputs": [],
   "source": [
    "Instruction 2:\n",
    "\n",
    "Choose one of the points that the LLM raised in response to your last prompt, and ask some follow up questions to dig deeper. Continue the conversation to get more information on any points that interest you or that related to concepts you may not be familiar with. \n",
    "\n",
    "The goal is to explore how an ongoing conversation can reveal deeper insights about the problem you are working on and options for solving it. One useful skill is asking an LLM to critique your understanding of an issue. This can help you improve your knowledge and skills.\n",
    "\n"
   ]
  },
  {
   "cell_type": "code",
   "execution_count": null,
   "id": "2f9f4172-eab0-4221-b5ff-d2b7708b7d02",
   "metadata": {},
   "outputs": [],
   "source": [
    "Instruction 3:\n",
    "\n",
    "Take a look at the linked-list code included in the video downloads (this code was generated using GPT-4o). Take some time to implement code that enables you to remove a node from the linked list. You can do this by hand, or ask an LLM to do it for you. Then go back and ask the LLM to profile the new code from the point of view of an expert in mitigating denial-of-service attacks, and to help you update the code to make sure it is safe from attack and performs well."
   ]
  },
  {
   "cell_type": "markdown",
   "id": "2e0c5a57-578f-4c0a-aeea-c8511eab3adb",
   "metadata": {},
   "source": [
    "### Exercise"
   ]
  },
  {
   "cell_type": "code",
   "execution_count": null,
   "id": "2845195f-ad2d-44f4-83c6-5d9b23e528c0",
   "metadata": {},
   "outputs": [],
   "source": [
    "Consider the reasons why some would want to implement a doubly-linked list rather than a singly-linked one. Take a few moments to think of some reasons, Then prompt an LLM with the same question, and compare the model’s answers to the items that you identified. "
   ]
  },
  {
   "cell_type": "code",
   "execution_count": null,
   "id": "c141c37b-271f-4982-bb05-71d8978ec344",
   "metadata": {},
   "outputs": [],
   "source": []
  },
  {
   "cell_type": "code",
   "execution_count": null,
   "id": "6d1cfeb8-4a07-45d0-9fdb-3ebcd561e622",
   "metadata": {},
   "outputs": [],
   "source": [
    "Instruction 1:\n",
    "\n",
    "Take a look at the binary search tree code included in the downloads for this video. What issues would you have to consider before deploying code that uses a BST like this into production? Make a note of any issues you come up with. \n",
    "\n",
    "Then pass the code to an LLM and ask it to assume the role of a site reliability engineer and analyze the code and suggest changes to make it perform well and securely in production.See what issues it comes up with, and compare the model’s answer to your own list. Take a close look at any code the LLM writes and ask follow-up questions to make sure you understand what it generated.\n",
    "\n"
   ]
  },
  {
   "cell_type": "code",
   "execution_count": null,
   "id": "70b7783c-5b29-4c6b-beb5-ff1b0242e31a",
   "metadata": {},
   "outputs": [],
   "source": [
    "Instruction 2:\n",
    "\n",
    "Take a look at the AVL.py code in the downloads for this video. Try running the code in the Coursera lab environment, in Google colab, or on your own machine. Try to break the code - there are some bugs in the implementation. Hint - think of a role to assign the LLM to help you identify edge cases. Then work with the LLM to fix the bugs you find and enhance the code."
   ]
  },
  {
   "cell_type": "code",
   "execution_count": null,
   "id": "0f0f1eba-74ec-4685-8320-bcc862c2216d",
   "metadata": {},
   "outputs": [],
   "source": [
    "Instruction 1:\n",
    "\n",
    "Examine the code in the graph.py file in the downloads for this video. This code implements a directed graph. Take a few moments to think try and the code out, see how it works, and identify any issues that might arise if this code was used in production. \n",
    "\n",
    "What improvements or changes would you need to implement to make the code ready for production settings? Is there any missing functionality? Or any security vulnerabilities to consider?\n",
    "\n",
    "After thinking through these issues yourself, pass the code to an LLM and ask it to critique the code and explore these issues for you. Read the model’s output, ask follow up questions if you need to, and then try out any code it generates to check that it works. When you are done, come back to see how that conversation progressed for Laurence.\n",
    "\n",
    "Instruction 2:\n",
    "\n",
    "Download the code in graph2.py from the video downloads, which Laurence generated after his back and forth with ChatGPT. \n",
    "\n",
    "Try the code out and see if you can break it, or ask an LLM to help you identify edge cases and test those out. Then with the LLM to fix any issues that you identify. "
   ]
  },
  {
   "cell_type": "code",
   "execution_count": null,
   "id": "50f73e67-4bb0-43a1-998e-3fdb88beaf25",
   "metadata": {},
   "outputs": [],
   "source": []
  },
  {
   "cell_type": "markdown",
   "id": "c5bcdfa5-efb9-410b-ab37-5c0e18bdb736",
   "metadata": {},
   "source": [
    "## Hash tables and maps"
   ]
  },
  {
   "cell_type": "code",
   "execution_count": 2,
   "id": "83473cb1-3c00-4e05-801b-c16aee92d3fc",
   "metadata": {},
   "outputs": [
    {
     "data": {
      "text/markdown": [
       " Here's a simple Python script that downloads text from a given URL and counts the occurrences of each word in the downloaded text. The script uses the `requests` library to fetch the content from the URL and the `collections.Counter` class from the standard library to count the words.\n",
       "\n",
       "```python\n",
       "import requests\n",
       "from collections import Counter\n",
       "import re\n",
       "\n",
       "def download_text(url):\n",
       "    response = requests.get(url)\n",
       "    if response.status_code == 200:\n",
       "        return response.text\n",
       "    else:\n",
       "        raise Exception(\"Failed to retrieve the content from the URL\")\n",
       "\n",
       "def count_words(text):\n",
       "    # Use regex to find all words, ignoring punctuation and case\n",
       "    words = re.findall(r'\\b\\w+\\b', text.lower())\n",
       "    return Counter(words)\n",
       "\n",
       "# Example usage:\n",
       "url = 'http://example.com'  # Replace with the desired URL\n",
       "text = download_text(url)\n",
       "word_counts = count_words(text)\n",
       "\n",
       "print(\"Word Counts:\")\n",
       "for word, count in word_counts.items():\n",
       "    print(f\"{word}: {count}\")\n",
       "```\n",
       "\n",
       "This script will output a list of words along with their counts from the text found at the specified URL. Each line represents a unique word and how many times it appears in the downloaded text."
      ],
      "text/plain": [
       "<IPython.core.display.Markdown object>"
      ]
     },
     "execution_count": 2,
     "metadata": {
      "text/markdown": {
       "jupyter_ai": {
        "model_id": "deepseek-coder-v2",
        "provider_id": "ollama"
       }
      }
     },
     "output_type": "execute_result"
    }
   ],
   "source": [
    "%%ai ollama:deepseek-coder-v2\n",
    "\n",
    "Please write plain Python code using the base language to download text from a given url \n",
    "and then count every instance of every word in the text.\n"
   ]
  },
  {
   "cell_type": "code",
   "execution_count": 3,
   "id": "ea67f22e-19a5-446d-acb9-24fd0e6390c8",
   "metadata": {},
   "outputs": [
    {
     "data": {
      "text/markdown": [
       " The `Counter` class is a part of the `collections` module in the Python standard library, which provides specialized container datatypes beyond those typically available in standard Python (via the built-in types like list, dict, and tuple). \n",
       "\n",
       "The `Counter` class is designed to count hashable objects. It allows you to easily count the occurrences of each element in an iterable or a mapping. Here’s how it works:\n",
       "\n",
       "### Basic Usage\n",
       "You can create a Counter object by passing an iterable (like a list or string) to its constructor:\n",
       "\n",
       "```python\n",
       "from collections import Counter\n",
       "\n",
       "# Example with a list\n",
       "c = Counter([1, 2, 2, 3, 4, 4, 4])\n",
       "print(c)\n",
       "```\n",
       "\n",
       "### Output\n",
       "The output will be:\n",
       "```\n",
       "Counter({4: 3, 2: 2, 1: 1, 3: 1})\n",
       "```\n",
       "This means that the number `4` appears `3` times, `2` appears `2` times, and so on.\n",
       "\n",
       "### Functions and Methods\n",
       "- **`.elements()`**: Returns an iterator over elements repeating each as many times as its count. Elements are returned in arbitrary order:\n",
       "    ```python\n",
       "    print(list(c.elements()))  # Output: [1, 2, 2, 3, 4, 4, 4]\n",
       "    ```\n",
       "- **`.most_common([n])`**: Returns a list of the `n` most common elements and their counts from the most common to the least:\n",
       "    ```python\n",
       "    print(c.most_common())  # Output: [(4, 3), (2, 2), (1, 1), (3, 1)]\n",
       "    ```\n",
       "- **`.elements()`**: Returns an iterator over elements repeating each as many times as its count. Elements are returned in arbitrary order:\n",
       "    ```python\n",
       "    print(list(c.elements()))  # Output: [1, 2, 2, 3, 4, 4, 4]\n",
       "    ```\n",
       "- **`.update([iterable-or-mapping])`**: Updates the counts with elements from an iterable or a mapping:\n",
       "    ```python\n",
       "    c.update([2, 3, 3])\n",
       "    print(c)  # Output: Counter({4: 3, 3: 3, 2: 3})\n",
       "    ```\n",
       "- **`.subtract([iterable-or-mapping])`**: Subtracts counts from an iterable or a mapping:\n",
       "    ```python\n",
       "    c.subtract([1, 2])\n",
       "    print(c)  # Output: Counter({4: 3, 3: 3, 2: 1, 1: -1})\n",
       "    ```\n",
       "- **`.total()`**: Returns the sum of all counts (equivalent to `sum(c.values())`):\n",
       "    ```python\n",
       "    print(c.total())  # Output: 9\n",
       "    ```\n",
       "\n",
       "### Use Cases\n",
       "1. **Counting occurrences in a list or string:**\n",
       "    ```python\n",
       "    text = \"mississippi\"\n",
       "    c = Counter(text)\n",
       "    print(c['s'])  # Output: 4\n",
       "    ```\n",
       "2. **Finding the most common elements:**\n",
       "    ```python\n",
       "    words = [\"apple\", \"banana\", \"apple\", \"cherry\", \"banana\", \"apple\"]\n",
       "    word_count = Counter(words)\n",
       "    print(word_count.most_common())  # Output: [('apple', 3), ('banana', 2), ('cherry', 1)]\n",
       "    ```\n",
       "\n",
       "### Summary\n",
       "The `Counter` class is a powerful tool for counting and analyzing the frequency of elements in an iterable or mapping. It simplifies handling counts, making it easier to work with data that involves repeated occurrences of values. This makes it particularly useful in scenarios such as text analysis, inventory management, and more."
      ],
      "text/plain": [
       "<IPython.core.display.Markdown object>"
      ]
     },
     "execution_count": 3,
     "metadata": {
      "text/markdown": {
       "jupyter_ai": {
        "model_id": "deepseek-coder-v2",
        "provider_id": "ollama"
       }
      }
     },
     "output_type": "execute_result"
    }
   ],
   "source": [
    "%%ai ollama:deepseek-coder-v2\n",
    "\n",
    "Assume the role of an expert Python programmer and explain the functionality of the Counter \n",
    "class from the collections package of the Python standard library.\n"
   ]
  },
  {
   "cell_type": "code",
   "execution_count": 4,
   "id": "1e815c60-7adf-4347-a242-2835eb1343d9",
   "metadata": {},
   "outputs": [
    {
     "data": {
      "text/markdown": [
       " The `Counter` class from the Python `collections` package is particularly useful for counting the occurrences of elements in an iterable, such as words in a text file. Here are some reasons why you might prefer using `Counter` over a plain Python dictionary:\n",
       "\n",
       "1. **Ease of Use**: The `Counter` class provides methods like `.most_common()` which make it easy to find the most common elements and their counts. For example, you can easily get the top N words by frequency with just one line of code. This is not as straightforward using a plain dictionary.\n",
       "   ```python\n",
       "   from collections import Counter\n",
       "\n",
       "   # Example usage\n",
       "   text = \"this is a test file this file contains some sample text\"\n",
       "   word_counts = Counter(text.split())\n",
       "   print(word_counts.most_common(5))  # Outputs the top 5 most common words\n",
       "   ```\n",
       "\n",
       "2. **Mathematical Operations**: `Counter` objects support arithmetic operations such as addition (`+`), subtraction (`-`), and union (`|`) which can be useful for combining word counts from multiple texts or removing specific counts. This is more cumbersome with plain dictionaries.\n",
       "   ```python\n",
       "   c1 = Counter(a=4, b=3)\n",
       "   c2 = Counter(a=2, b=5)\n",
       "   result = c1 - c2  # Result: Counter({'a': 2, 'b': -2})\n",
       "   ```\n",
       "\n",
       "3. **Default Values**: Unlike plain dictionaries, `Counter` objects handle missing elements by providing a default count of zero rather than raising a key error. This makes it easier to deal with words that might not be present in the text.\n",
       "   ```python\n",
       "   c = Counter(a=1, b=2)\n",
       "   print(c['c'])  # Outputs: 0 (instead of KeyError)\n",
       "   ```\n",
       "\n",
       "4. **Readability**: Using `Counter` can make your code more readable and concise, especially when dealing with simple counting tasks like word frequencies in a text file. It clearly expresses the intent that you are trying to count occurrences of elements.\n",
       "\n",
       "5. **Integration with Other Libraries**: The `collections` module is part of Python's standard library, which means it works seamlessly with other libraries and tools in the Python ecosystem without requiring additional installations.\n",
       "\n",
       "In summary, while a plain dictionary can be used for counting words, using `Counter` from the `collections` package offers more functionality and ease-of-use for handling counted data."
      ],
      "text/plain": [
       "<IPython.core.display.Markdown object>"
      ]
     },
     "execution_count": 4,
     "metadata": {
      "text/markdown": {
       "jupyter_ai": {
        "model_id": "deepseek-coder-v2",
        "provider_id": "ollama"
       }
      }
     },
     "output_type": "execute_result"
    }
   ],
   "source": [
    "%%ai ollama:deepseek-coder-v2\n",
    "\n",
    "Why would you use the Counter class from the Python collections package to count the occurence \n",
    "of words in a text file instead of a plain Python dictionary?\n"
   ]
  },
  {
   "cell_type": "code",
   "execution_count": 5,
   "id": "79890009-a317-452a-a543-076492d3e8b9",
   "metadata": {},
   "outputs": [
    {
     "data": {
      "text/markdown": [
       " Yes, the `Counter` class from the Python `collections` library scales better than a standard Python dictionary for counting occurrences of words across millions of text files. This is because `Counter` is optimized for such tasks and provides efficient methods for updating counts as well as accessing the most common elements."
      ],
      "text/plain": [
       "<IPython.core.display.Markdown object>"
      ]
     },
     "execution_count": 5,
     "metadata": {
      "text/markdown": {
       "jupyter_ai": {
        "model_id": "deepseek-coder-v2",
        "provider_id": "ollama"
       }
      }
     },
     "output_type": "execute_result"
    }
   ],
   "source": [
    "%%ai ollama:deepseek-coder-v2\n",
    "\n",
    "Suppose that I have millions of text files and I need to count the occurence of each word across \n",
    "all the files. Does the Counter class from the Python collections library scale better than a \n",
    "standard Python dictionary?\n"
   ]
  },
  {
   "cell_type": "code",
   "execution_count": 7,
   "id": "a0bef891-74f6-4aaf-9f5d-e3cbb20f616a",
   "metadata": {},
   "outputs": [
    {
     "data": {
      "text/markdown": [
       " No, using regular expressions for breaking a large corpus of text files into words is not typically the fastest or most scalable solution due to their complexity and overhead. A more efficient approach would be to use tokenization methods provided by libraries like NLTK (Natural Language Toolkit) or spaCy, which are designed specifically for processing natural language data. These libraries offer faster and more accurate word segmentation techniques that can handle larger volumes of text efficiently.\n",
       "\n",
       "Here's a basic example using Python with the `re` module to split text into words:\n",
       "\n",
       "```python\n",
       "import re\n",
       "\n",
       "def tokenize_text(text):\n",
       "    # Split on any whitespace, punctuation, or special characters\n",
       "    tokens = re.findall(r'\\b\\w+\\b', text)\n",
       "    return tokens\n",
       "\n",
       "# Example usage\n",
       "corpus = \"This is a sample text file for processing.\"\n",
       "words = tokenize_text(corpus)\n",
       "print(words)\n",
       "```\n",
       "\n",
       "However, for large-scale processing of millions of text files, consider using specialized libraries:\n",
       "\n",
       "```python\n",
       "import nltk\n",
       "from nltk.tokenize import word_tokenize\n",
       "nltk.download('punkt')  # Download the tokenizer models\n",
       "\n",
       "def tokenize_text(text):\n",
       "    tokens = word_tokenize(text)\n",
       "    return tokens\n",
       "\n",
       "# Example usage\n",
       "corpus = \"This is a sample text file for processing.\"\n",
       "words = tokenize_text(corpus)\n",
       "print(words)\n",
       "```\n",
       "\n",
       "Or with spaCy:\n",
       "\n",
       "```python\n",
       "import spacy\n",
       "nlp = spacy.load('en_core_web_sm')  # Download the English language model\n",
       "\n",
       "def tokenize_text(text):\n",
       "    doc = nlp(text)\n",
       "    tokens = [token.text for token in doc]\n",
       "    return tokens\n",
       "\n",
       "# Example usage\n",
       "corpus = \"This is a sample text file for processing.\"\n",
       "words = tokenize_text(corpus)\n",
       "print(words)\n",
       "```\n",
       "\n",
       "These alternatives are generally faster and more scalable than using regular expressions, especially when dealing with large volumes of text."
      ],
      "text/plain": [
       "<IPython.core.display.Markdown object>"
      ]
     },
     "execution_count": 7,
     "metadata": {
      "text/markdown": {
       "jupyter_ai": {
        "model_id": "deepseek-coder-v2",
        "provider_id": "ollama"
       }
      }
     },
     "output_type": "execute_result"
    }
   ],
   "source": [
    "%%ai ollama:deepseek-coder-v2\n",
    "\n",
    "I see that the Python code uses regular expressions to break the corpus into words. Is this the \n",
    "fastest and most scalable solution? Suppose that I have millions of text files to process?\n"
   ]
  },
  {
   "cell_type": "code",
   "execution_count": null,
   "id": "69e2ac68-e331-4fb7-82ea-11e1648c1be4",
   "metadata": {},
   "outputs": [],
   "source": []
  },
  {
   "cell_type": "markdown",
   "id": "787560ad-a740-4e22-8196-16e7037805f6",
   "metadata": {},
   "source": [
    "### Exercise\n",
    "\n",
    "Take a moment to examine the code in `../src/count_words2.py`, which is available in the downloads for this video. Try the code out, see how it works, and think through any vulnerabilities that might exist in the code and note down your ideas. \n",
    "\n",
    "Next, pass the code to an LLM and ask it to identify any vulnerabilities in your code. Compare your list to the items that the LLM comes up with. \n",
    "\n",
    "Read the model’s output, ask follow up questions if you need to, and then try out any code it generates to check that it works. When you are done, come back to see how that conversation progressed for Laurence.\n"
   ]
  },
  {
   "cell_type": "code",
   "execution_count": null,
   "id": "0643eb56-4a78-4c62-99e7-d2b4b4ebfcde",
   "metadata": {},
   "outputs": [],
   "source": []
  },
  {
   "cell_type": "markdown",
   "id": "27d1513e-5a65-4cfd-824a-3c6ae2a55d36",
   "metadata": {},
   "source": [
    "### Exercise\n",
    "\n",
    "Compare `../src/count_words3.py code` to the enhanced code you developed after chatting with an LLM. Critique the code and identify any vulnerabilities and edge cases. \n",
    "\n",
    "Then ask an LLM to fix these and to offer any other suggestions for improving the code. Some things you could try include: writing test cases, implementing support for other languages, refactoring the code into another programming language, or adding documentation. Your goal is to write a robust word counting function that could work well at scale and that is safe and secure.\n"
   ]
  },
  {
   "cell_type": "code",
   "execution_count": null,
   "id": "14b51b84-77fd-468f-9fdd-7ad244f66bd3",
   "metadata": {},
   "outputs": [],
   "source": []
  },
  {
   "cell_type": "code",
   "execution_count": null,
   "id": "56c071c0-74a2-4804-8ec6-a5599a7220fd",
   "metadata": {},
   "outputs": [],
   "source": []
  },
  {
   "cell_type": "code",
   "execution_count": null,
   "id": "f60ab0bf-a8e7-4334-abba-99a4b8bb883e",
   "metadata": {},
   "outputs": [],
   "source": []
  },
  {
   "cell_type": "code",
   "execution_count": null,
   "id": "2f0ac88a-9e9e-4dd7-abcd-4b96dbfc4872",
   "metadata": {},
   "outputs": [],
   "source": []
  },
  {
   "cell_type": "code",
   "execution_count": null,
   "id": "9fca7bc3-717e-405f-be62-b6b40eda9700",
   "metadata": {},
   "outputs": [],
   "source": []
  }
 ],
 "metadata": {
  "kernelspec": {
   "display_name": "Python 3 (ipykernel)",
   "language": "python",
   "name": "python3"
  },
  "language_info": {
   "codemirror_mode": {
    "name": "ipython",
    "version": 3
   },
   "file_extension": ".py",
   "mimetype": "text/x-python",
   "name": "python",
   "nbconvert_exporter": "python",
   "pygments_lexer": "ipython3",
   "version": "3.12.6"
  }
 },
 "nbformat": 4,
 "nbformat_minor": 5
}
